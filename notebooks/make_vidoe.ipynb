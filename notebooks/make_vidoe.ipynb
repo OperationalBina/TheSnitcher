{
 "cells": [
  {
   "cell_type": "code",
   "execution_count": 1,
   "id": "generous-intensity",
   "metadata": {},
   "outputs": [],
   "source": [
    "import os\n",
    "from sys import path\n",
    "path.append('../')\n",
    "\n",
    "import cv2\n",
    "\n",
    "from src.algorithems import PoseEstimator"
   ]
  },
  {
   "cell_type": "code",
   "execution_count": 2,
   "id": "weekly-norman",
   "metadata": {},
   "outputs": [
    {
     "name": "stdout",
     "output_type": "stream",
     "text": [
      "working on frame 2/1601"
     ]
    },
    {
     "name": "stderr",
     "output_type": "stream",
     "text": [
      "/home/user686/PycharmProjects/TheSnitcher/venv/lib/python3.8/site-packages/detectron2/modeling/roi_heads/fast_rcnn.py:154: UserWarning: This overload of nonzero is deprecated:\n",
      "\tnonzero()\n",
      "Consider using one of the following signatures instead:\n",
      "\tnonzero(*, bool as_tuple) (Triggered internally at  /pytorch/torch/csrc/utils/python_arg_parser.cpp:882.)\n",
      "  filter_inds = filter_mask.nonzero()\n"
     ]
    },
    {
     "name": "stdout",
     "output_type": "stream",
     "text": [
      "working on frame 1601/1601"
     ]
    }
   ],
   "source": [
    "data_dir = '../data/vids'\n",
    "output_dir = '../outputs'\n",
    "path = os.path.join(data_dir, 'drone_shimoni.mp4')\n",
    "output_file = os.path.join(output_dir, 'drone_shimoni.avi')\n",
    "\n",
    "pe = PoseEstimator()\n",
    "\n",
    "cap = cv2.VideoCapture(path)\n",
    "\n",
    "height = int(cap.get(cv2.CAP_PROP_FRAME_HEIGHT))\n",
    "width = int(cap.get(cv2.CAP_PROP_FRAME_WIDTH))\n",
    "fps = cap.get(cv2.CAP_PROP_FPS)\n",
    "num_frames = int(cap.get(cv2.CAP_PROP_FRAME_COUNT))\n",
    "frame_num = 1\n",
    "\n",
    "fourcc = cv2.VideoWriter_fourcc(*'XVID')\n",
    "outvid = cv2.VideoWriter(output_file, fourcc, fps, (width, height))\n",
    "\n",
    "while cap.isOpened():\n",
    "    ret, frame = cap.read()\n",
    "    if ret:\n",
    "        print(f'\\rworking on frame {frame_num}/{num_frames}', end='', flush=True)\n",
    "        frame_num += 1\n",
    "        prediction = pe.get_full_prediction(frame)\n",
    "        pred_frame = pe.draw_prediction_on_image(frame, prediction)\n",
    "\n",
    "        outvid.write(pred_frame[:,:,::-1])\n",
    "\n",
    "    else:\n",
    "        break\n",
    "\n",
    "cap.release()\n",
    "outvid.release()\n",
    "cv2.destroyAllWindows()"
   ]
  }
 ],
 "metadata": {
  "kernelspec": {
   "display_name": "Python 3",
   "language": "python",
   "name": "python3"
  },
  "language_info": {
   "codemirror_mode": {
    "name": "ipython",
    "version": 3
   },
   "file_extension": ".py",
   "mimetype": "text/x-python",
   "name": "python",
   "nbconvert_exporter": "python",
   "pygments_lexer": "ipython3",
   "version": "3.8.0"
  }
 },
 "nbformat": 4,
 "nbformat_minor": 5
}
